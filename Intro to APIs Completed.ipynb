{
 "cells": [
  {
   "cell_type": "markdown",
   "id": "7196054f",
   "metadata": {},
   "source": [
    "# Working with APIs"
   ]
  },
  {
   "cell_type": "markdown",
   "id": "0547b71e",
   "metadata": {},
   "source": [
    "API stands for Application programming interface<br>\n",
    "APIs are a way for applications to talk to eachother<br>\n",
    "In python we use the requests package to handle the connection<br>\n",
    "<small><strong>Note: It is requests with an s not request(this is a different package)</strong></small><br>\n",
    "Most API's communicate with data in the form of JSON<br>\n",
    "JSON stands for JavaScript Object Notation"
   ]
  },
  {
   "attachments": {},
   "cell_type": "markdown",
   "id": "cc80a1f0",
   "metadata": {},
   "source": [
    "### importing requests module"
   ]
  },
  {
   "cell_type": "code",
   "execution_count": 15,
   "id": "4db9d154",
   "metadata": {},
   "outputs": [],
   "source": [
    "import requests"
   ]
  },
  {
   "cell_type": "markdown",
   "id": "e8c2ce51",
   "metadata": {},
   "source": [
    "We will be connecting to the Ergast F1 Racer API today:\n",
    "http://ergast.com/mrd/\n",
    "\n",
    "to view JSON data nicely in the Chrome browser install the extension JSONview"
   ]
  },
  {
   "cell_type": "code",
   "execution_count": 16,
   "id": "52c440c6",
   "metadata": {},
   "outputs": [],
   "source": [
    "# Make sure to attach extension .json at the end of url\n",
    "url = 'https://ergast.com/api/f1/2008/5/driverStandings.json'"
   ]
  },
  {
   "attachments": {},
   "cell_type": "markdown",
   "id": "1f8dc8b3",
   "metadata": {},
   "source": [
    "### using the requests package to access data from api/url"
   ]
  },
  {
   "cell_type": "code",
   "execution_count": 17,
   "id": "f60c1b4a",
   "metadata": {},
   "outputs": [
    {
     "name": "stdout",
     "output_type": "stream",
     "text": [
      "<class 'requests.models.Response'>\n"
     ]
    }
   ],
   "source": [
    "response = requests.get(url)\n",
    "print(type(response))"
   ]
  },
  {
   "attachments": {},
   "cell_type": "markdown",
   "id": "52f840a9",
   "metadata": {},
   "source": [
    "### checking and making sure we got a successful response from our API\n",
    "#### status codes: 200 = ok/successful, 400 = bad/unsuccessful"
   ]
  },
  {
   "cell_type": "code",
   "execution_count": 30,
   "id": "7b63a204",
   "metadata": {},
   "outputs": [
    {
     "data": {
      "text/plain": [
       "503"
      ]
     },
     "execution_count": 30,
     "metadata": {},
     "output_type": "execute_result"
    }
   ],
   "source": [
    "response.status_code\n",
    "# response.ok"
   ]
  },
  {
   "attachments": {},
   "cell_type": "markdown",
   "id": "bc3fa89d",
   "metadata": {},
   "source": [
    "### view the response as a JSON with .json()"
   ]
  },
  {
   "cell_type": "code",
   "execution_count": 26,
   "id": "ed4d3256",
   "metadata": {},
   "outputs": [
    {
     "ename": "JSONDecodeError",
     "evalue": "Expecting value: line 1 column 1 (char 0)",
     "output_type": "error",
     "traceback": [
      "\u001b[1;31m---------------------------------------------------------------------------\u001b[0m",
      "\u001b[1;31mJSONDecodeError\u001b[0m                           Traceback (most recent call last)",
      "File \u001b[1;32mc:\\Users\\Owner\\anaconda3\\Lib\\site-packages\\requests\\models.py:971\u001b[0m, in \u001b[0;36mResponse.json\u001b[1;34m(self, **kwargs)\u001b[0m\n\u001b[0;32m    970\u001b[0m \u001b[39mtry\u001b[39;00m:\n\u001b[1;32m--> 971\u001b[0m     \u001b[39mreturn\u001b[39;00m complexjson\u001b[39m.\u001b[39;49mloads(\u001b[39mself\u001b[39;49m\u001b[39m.\u001b[39;49mtext, \u001b[39m*\u001b[39;49m\u001b[39m*\u001b[39;49mkwargs)\n\u001b[0;32m    972\u001b[0m \u001b[39mexcept\u001b[39;00m JSONDecodeError \u001b[39mas\u001b[39;00m e:\n\u001b[0;32m    973\u001b[0m     \u001b[39m# Catch JSON-related errors and raise as requests.JSONDecodeError\u001b[39;00m\n\u001b[0;32m    974\u001b[0m     \u001b[39m# This aliases json.JSONDecodeError and simplejson.JSONDecodeError\u001b[39;00m\n",
      "File \u001b[1;32mc:\\Users\\Owner\\anaconda3\\Lib\\json\\__init__.py:346\u001b[0m, in \u001b[0;36mloads\u001b[1;34m(s, cls, object_hook, parse_float, parse_int, parse_constant, object_pairs_hook, **kw)\u001b[0m\n\u001b[0;32m    343\u001b[0m \u001b[39mif\u001b[39;00m (\u001b[39mcls\u001b[39m \u001b[39mis\u001b[39;00m \u001b[39mNone\u001b[39;00m \u001b[39mand\u001b[39;00m object_hook \u001b[39mis\u001b[39;00m \u001b[39mNone\u001b[39;00m \u001b[39mand\u001b[39;00m\n\u001b[0;32m    344\u001b[0m         parse_int \u001b[39mis\u001b[39;00m \u001b[39mNone\u001b[39;00m \u001b[39mand\u001b[39;00m parse_float \u001b[39mis\u001b[39;00m \u001b[39mNone\u001b[39;00m \u001b[39mand\u001b[39;00m\n\u001b[0;32m    345\u001b[0m         parse_constant \u001b[39mis\u001b[39;00m \u001b[39mNone\u001b[39;00m \u001b[39mand\u001b[39;00m object_pairs_hook \u001b[39mis\u001b[39;00m \u001b[39mNone\u001b[39;00m \u001b[39mand\u001b[39;00m \u001b[39mnot\u001b[39;00m kw):\n\u001b[1;32m--> 346\u001b[0m     \u001b[39mreturn\u001b[39;00m _default_decoder\u001b[39m.\u001b[39;49mdecode(s)\n\u001b[0;32m    347\u001b[0m \u001b[39mif\u001b[39;00m \u001b[39mcls\u001b[39m \u001b[39mis\u001b[39;00m \u001b[39mNone\u001b[39;00m:\n",
      "File \u001b[1;32mc:\\Users\\Owner\\anaconda3\\Lib\\json\\decoder.py:337\u001b[0m, in \u001b[0;36mJSONDecoder.decode\u001b[1;34m(self, s, _w)\u001b[0m\n\u001b[0;32m    333\u001b[0m \u001b[39m\u001b[39m\u001b[39m\"\"\"Return the Python representation of ``s`` (a ``str`` instance\u001b[39;00m\n\u001b[0;32m    334\u001b[0m \u001b[39mcontaining a JSON document).\u001b[39;00m\n\u001b[0;32m    335\u001b[0m \n\u001b[0;32m    336\u001b[0m \u001b[39m\"\"\"\u001b[39;00m\n\u001b[1;32m--> 337\u001b[0m obj, end \u001b[39m=\u001b[39m \u001b[39mself\u001b[39;49m\u001b[39m.\u001b[39;49mraw_decode(s, idx\u001b[39m=\u001b[39;49m_w(s, \u001b[39m0\u001b[39;49m)\u001b[39m.\u001b[39;49mend())\n\u001b[0;32m    338\u001b[0m end \u001b[39m=\u001b[39m _w(s, end)\u001b[39m.\u001b[39mend()\n",
      "File \u001b[1;32mc:\\Users\\Owner\\anaconda3\\Lib\\json\\decoder.py:355\u001b[0m, in \u001b[0;36mJSONDecoder.raw_decode\u001b[1;34m(self, s, idx)\u001b[0m\n\u001b[0;32m    354\u001b[0m \u001b[39mexcept\u001b[39;00m \u001b[39mStopIteration\u001b[39;00m \u001b[39mas\u001b[39;00m err:\n\u001b[1;32m--> 355\u001b[0m     \u001b[39mraise\u001b[39;00m JSONDecodeError(\u001b[39m\"\u001b[39m\u001b[39mExpecting value\u001b[39m\u001b[39m\"\u001b[39m, s, err\u001b[39m.\u001b[39mvalue) \u001b[39mfrom\u001b[39;00m \u001b[39mNone\u001b[39;00m\n\u001b[0;32m    356\u001b[0m \u001b[39mreturn\u001b[39;00m obj, end\n",
      "\u001b[1;31mJSONDecodeError\u001b[0m: Expecting value: line 1 column 1 (char 0)",
      "\nDuring handling of the above exception, another exception occurred:\n",
      "\u001b[1;31mJSONDecodeError\u001b[0m                           Traceback (most recent call last)",
      "\u001b[1;32mc:\\Users\\Owner\\Documents\\Code\\Theives_133\\week4\\day4\\Intro to APIs Completed.ipynb Cell 12\u001b[0m line \u001b[0;36m1\n\u001b[1;32m----> <a href='vscode-notebook-cell:/c%3A/Users/Owner/Documents/Code/Theives_133/week4/day4/Intro%20to%20APIs%20Completed.ipynb#X14sZmlsZQ%3D%3D?line=0'>1</a>\u001b[0m data \u001b[39m=\u001b[39m response\u001b[39m.\u001b[39;49mjson()\n",
      "File \u001b[1;32mc:\\Users\\Owner\\anaconda3\\Lib\\site-packages\\requests\\models.py:975\u001b[0m, in \u001b[0;36mResponse.json\u001b[1;34m(self, **kwargs)\u001b[0m\n\u001b[0;32m    971\u001b[0m     \u001b[39mreturn\u001b[39;00m complexjson\u001b[39m.\u001b[39mloads(\u001b[39mself\u001b[39m\u001b[39m.\u001b[39mtext, \u001b[39m*\u001b[39m\u001b[39m*\u001b[39mkwargs)\n\u001b[0;32m    972\u001b[0m \u001b[39mexcept\u001b[39;00m JSONDecodeError \u001b[39mas\u001b[39;00m e:\n\u001b[0;32m    973\u001b[0m     \u001b[39m# Catch JSON-related errors and raise as requests.JSONDecodeError\u001b[39;00m\n\u001b[0;32m    974\u001b[0m     \u001b[39m# This aliases json.JSONDecodeError and simplejson.JSONDecodeError\u001b[39;00m\n\u001b[1;32m--> 975\u001b[0m     \u001b[39mraise\u001b[39;00m RequestsJSONDecodeError(e\u001b[39m.\u001b[39mmsg, e\u001b[39m.\u001b[39mdoc, e\u001b[39m.\u001b[39mpos)\n",
      "\u001b[1;31mJSONDecodeError\u001b[0m: Expecting value: line 1 column 1 (char 0)"
     ]
    }
   ],
   "source": [
    "data = response.json()"
   ]
  },
  {
   "attachments": {},
   "cell_type": "markdown",
   "id": "3b49045f",
   "metadata": {},
   "source": [
    "### Get the Driver Standings Data from JSON"
   ]
  },
  {
   "cell_type": "code",
   "execution_count": 55,
   "id": "f074dfcf",
   "metadata": {},
   "outputs": [
    {
     "ename": "NameError",
     "evalue": "name 'data' is not defined",
     "output_type": "error",
     "traceback": [
      "\u001b[1;31m---------------------------------------------------------------------------\u001b[0m",
      "\u001b[1;31mNameError\u001b[0m                                 Traceback (most recent call last)",
      "\u001b[1;32mc:\\Users\\Owner\\Documents\\Code\\Theives_133\\week4\\day4\\Intro to APIs Completed.ipynb Cell 14\u001b[0m line \u001b[0;36m1\n\u001b[1;32m----> <a href='vscode-notebook-cell:/c%3A/Users/Owner/Documents/Code/Theives_133/week4/day4/Intro%20to%20APIs%20Completed.ipynb#X16sZmlsZQ%3D%3D?line=0'>1</a>\u001b[0m driver_standings_data \u001b[39m=\u001b[39m data[\u001b[39m'\u001b[39m\u001b[39mMRData\u001b[39m\u001b[39m'\u001b[39m][\u001b[39m'\u001b[39m\u001b[39mStandingsTable\u001b[39m\u001b[39m'\u001b[39m][\u001b[39m'\u001b[39m\u001b[39mStandingsLists\u001b[39m\u001b[39m'\u001b[39m][\u001b[39m0\u001b[39m][\u001b[39m'\u001b[39m\u001b[39mDriverStandings\u001b[39m\u001b[39m'\u001b[39m]\n\u001b[0;32m      <a href='vscode-notebook-cell:/c%3A/Users/Owner/Documents/Code/Theives_133/week4/day4/Intro%20to%20APIs%20Completed.ipynb#X16sZmlsZQ%3D%3D?line=1'>2</a>\u001b[0m \u001b[39mprint\u001b[39m(driver_standings_data)\n",
      "\u001b[1;31mNameError\u001b[0m: name 'data' is not defined"
     ]
    }
   ],
   "source": [
    "driver_standings_data = data['MRData']['StandingsTable']['StandingsLists'][0]['DriverStandings']\n",
    "print(driver_standings_data)"
   ]
  },
  {
   "attachments": {},
   "cell_type": "markdown",
   "id": "459823db",
   "metadata": {},
   "source": [
    "### Use a for loop to display all driver full names"
   ]
  },
  {
   "cell_type": "code",
   "execution_count": 15,
   "id": "be46a950",
   "metadata": {},
   "outputs": [
    {
     "name": "stdout",
     "output_type": "stream",
     "text": [
      "Kimi Räikkönen\n",
      "Felipe Massa\n",
      "Lewis Hamilton\n",
      "Robert Kubica\n",
      "Nick Heidfeld\n",
      "Heikki Kovalainen\n",
      "Mark Webber\n",
      "Fernando Alonso\n",
      "Jarno Trulli\n",
      "Nico Rosberg\n",
      "Kazuki Nakajima\n",
      "Jenson Button\n",
      "Sébastien Bourdais\n",
      "David Coulthard\n",
      "Timo Glock\n",
      "Giancarlo Fisichella\n",
      "Rubens Barrichello\n",
      "Nelson Piquet Jr.\n",
      "Takuma Sato\n",
      "Anthony Davidson\n",
      "Adrian Sutil\n",
      "Sebastian Vettel\n"
     ]
    }
   ],
   "source": [
    "for driver in driver_standings_data:\n",
    "    print(driver['Driver']['givenName'], driver['Driver']['familyName'])"
   ]
  },
  {
   "attachments": {},
   "cell_type": "markdown",
   "id": "43c20f0d",
   "metadata": {},
   "source": [
    "### Create a function getting certain driver info (givenName, familyName, dateOfBirth, wins, team)"
   ]
  },
  {
   "cell_type": "code",
   "execution_count": 17,
   "id": "3740c752",
   "metadata": {},
   "outputs": [
    {
     "name": "stdout",
     "output_type": "stream",
     "text": [
      "[{'first_name': 'Kimi', 'last_name': 'Räikkönen', 'DOB': '1979-10-17', 'wins': '2', 'team': 'Ferrari'}, {'first_name': 'Felipe', 'last_name': 'Massa', 'DOB': '1981-04-25', 'wins': '2', 'team': 'Ferrari'}, {'first_name': 'Lewis', 'last_name': 'Hamilton', 'DOB': '1985-01-07', 'wins': '1', 'team': 'McLaren'}, {'first_name': 'Robert', 'last_name': 'Kubica', 'DOB': '1984-12-07', 'wins': '0', 'team': 'BMW Sauber'}, {'first_name': 'Nick', 'last_name': 'Heidfeld', 'DOB': '1977-05-10', 'wins': '0', 'team': 'BMW Sauber'}, {'first_name': 'Heikki', 'last_name': 'Kovalainen', 'DOB': '1981-10-19', 'wins': '0', 'team': 'McLaren'}, {'first_name': 'Mark', 'last_name': 'Webber', 'DOB': '1976-08-27', 'wins': '0', 'team': 'Red Bull'}, {'first_name': 'Fernando', 'last_name': 'Alonso', 'DOB': '1981-07-29', 'wins': '0', 'team': 'Renault'}, {'first_name': 'Jarno', 'last_name': 'Trulli', 'DOB': '1974-07-13', 'wins': '0', 'team': 'Toyota'}, {'first_name': 'Nico', 'last_name': 'Rosberg', 'DOB': '1985-06-27', 'wins': '0', 'team': 'Williams'}, {'first_name': 'Kazuki', 'last_name': 'Nakajima', 'DOB': '1985-01-11', 'wins': '0', 'team': 'Williams'}, {'first_name': 'Jenson', 'last_name': 'Button', 'DOB': '1980-01-19', 'wins': '0', 'team': 'Honda'}, {'first_name': 'Sébastien', 'last_name': 'Bourdais', 'DOB': '1979-02-28', 'wins': '0', 'team': 'Toro Rosso'}, {'first_name': 'David', 'last_name': 'Coulthard', 'DOB': '1971-03-27', 'wins': '0', 'team': 'Red Bull'}, {'first_name': 'Timo', 'last_name': 'Glock', 'DOB': '1982-03-18', 'wins': '0', 'team': 'Toyota'}, {'first_name': 'Giancarlo', 'last_name': 'Fisichella', 'DOB': '1973-01-14', 'wins': '0', 'team': 'Force India'}, {'first_name': 'Rubens', 'last_name': 'Barrichello', 'DOB': '1972-05-23', 'wins': '0', 'team': 'Honda'}, {'first_name': 'Nelson', 'last_name': 'Piquet Jr.', 'DOB': '1985-07-25', 'wins': '0', 'team': 'Renault'}, {'first_name': 'Takuma', 'last_name': 'Sato', 'DOB': '1977-01-28', 'wins': '0', 'team': 'Super Aguri'}, {'first_name': 'Anthony', 'last_name': 'Davidson', 'DOB': '1979-04-18', 'wins': '0', 'team': 'Super Aguri'}, {'first_name': 'Adrian', 'last_name': 'Sutil', 'DOB': '1983-01-11', 'wins': '0', 'team': 'Force India'}, {'first_name': 'Sebastian', 'last_name': 'Vettel', 'DOB': '1987-07-03', 'wins': '0', 'team': 'Toro Rosso'}]\n"
     ]
    }
   ],
   "source": [
    "def get_driver_data(data):\n",
    "    new_driver_data = []\n",
    "    for driver in data:\n",
    "        driver_dict = {\n",
    "            'first_name': driver['Driver']['givenName'],\n",
    "            'last_name': driver['Driver']['familyName'],\n",
    "            'DOB': driver['Driver']['dateOfBirth'],\n",
    "            'wins': driver['wins'],\n",
    "            'team': driver['Constructors'][0]['name']\n",
    "        }\n",
    "        new_driver_data.append(driver_dict)\n",
    "    return new_driver_data\n",
    "\n",
    "print(get_driver_data(driver_standings_data))"
   ]
  },
  {
   "attachments": {},
   "cell_type": "markdown",
   "id": "1a713b13",
   "metadata": {},
   "source": [
    "### Making a more flexible function to handle different years and rounds"
   ]
  },
  {
   "cell_type": "code",
   "execution_count": 27,
   "id": "e9866280",
   "metadata": {},
   "outputs": [
    {
     "name": "stdout",
     "output_type": "stream",
     "text": [
      "[{'first_name': 'Lewis', 'last_name': 'Hamilton', 'DOB': '1985-01-07', 'wins': '2', 'team': 'Mercedes'}, {'first_name': 'Valtteri', 'last_name': 'Bottas', 'DOB': '1989-08-28', 'wins': '1', 'team': 'Mercedes'}, {'first_name': 'Max', 'last_name': 'Verstappen', 'DOB': '1997-09-30', 'wins': '0', 'team': 'Red Bull'}, {'first_name': 'Lando', 'last_name': 'Norris', 'DOB': '1999-11-13', 'wins': '0', 'team': 'McLaren'}, {'first_name': 'Alexander', 'last_name': 'Albon', 'DOB': '1996-03-23', 'wins': '0', 'team': 'Red Bull'}, {'first_name': 'Sergio', 'last_name': 'Pérez', 'DOB': '1990-01-26', 'wins': '0', 'team': 'Racing Point'}, {'first_name': 'Charles', 'last_name': 'Leclerc', 'DOB': '1997-10-16', 'wins': '0', 'team': 'Ferrari'}, {'first_name': 'Lance', 'last_name': 'Stroll', 'DOB': '1998-10-29', 'wins': '0', 'team': 'Racing Point'}, {'first_name': 'Carlos', 'last_name': 'Sainz', 'DOB': '1994-09-01', 'wins': '0', 'team': 'McLaren'}, {'first_name': 'Sebastian', 'last_name': 'Vettel', 'DOB': '1987-07-03', 'wins': '0', 'team': 'Ferrari'}, {'first_name': 'Daniel', 'last_name': 'Ricciardo', 'DOB': '1989-07-01', 'wins': '0', 'team': 'Renault'}, {'first_name': 'Pierre', 'last_name': 'Gasly', 'DOB': '1996-02-07', 'wins': '0', 'team': 'AlphaTauri'}, {'first_name': 'Esteban', 'last_name': 'Ocon', 'DOB': '1996-09-17', 'wins': '0', 'team': 'Renault'}, {'first_name': 'Antonio', 'last_name': 'Giovinazzi', 'DOB': '1993-12-14', 'wins': '0', 'team': 'Alfa Romeo'}, {'first_name': 'Daniil', 'last_name': 'Kvyat', 'DOB': '1994-04-26', 'wins': '0', 'team': 'AlphaTauri'}, {'first_name': 'Kevin', 'last_name': 'Magnussen', 'DOB': '1992-10-05', 'wins': '0', 'team': 'Haas F1 Team'}, {'first_name': 'Kimi', 'last_name': 'Räikkönen', 'DOB': '1979-10-17', 'wins': '0', 'team': 'Alfa Romeo'}, {'first_name': 'Nicholas', 'last_name': 'Latifi', 'DOB': '1995-06-29', 'wins': '0', 'team': 'Williams'}, {'first_name': 'Romain', 'last_name': 'Grosjean', 'DOB': '1986-04-17', 'wins': '0', 'team': 'Haas F1 Team'}, {'first_name': 'George', 'last_name': 'Russell', 'DOB': '1998-02-15', 'wins': '0', 'team': 'Williams'}]\n"
     ]
    }
   ],
   "source": [
    "def get_driver_data_year_rnd(year, rnd):\n",
    "    url = f'https://ergast.com/api/f1/{year}/{rnd}/driverStandings.json'\n",
    "    response = requests.get(url)\n",
    "    try:\n",
    "        new_data = response.json()['MRData']['StandingsTable']['StandingsLists'][0]['DriverStandings']\n",
    "        # call helper function\n",
    "        return get_driver_data(new_data)\n",
    "    except IndexError:\n",
    "        return 'Invalid round or year'\n",
    "print(get_driver_data_year_rnd(2020,3))"
   ]
  },
  {
   "cell_type": "markdown",
   "id": "6d546014",
   "metadata": {},
   "source": [
    "# <strong>Homework</strong>\n",
    "check out this Pokemon API https://pokeapi.co/\n",
    "Use the requests package to connect to this API and get and store data for 5 different pokemon.\n",
    "Get the pokemons: name, atleast one ability's name, base_experience, and the URL for its sprite (an image that shows up on screen) for the 'front_shiny', attack base_stat, hp base_stat, defense base_stat"
   ]
  },
  {
   "cell_type": "code",
   "execution_count": 90,
   "id": "5a9081e3",
   "metadata": {},
   "outputs": [
    {
     "name": "stdout",
     "output_type": "stream",
     "text": [
      "{'Name': 'gengar', 'Ability': 'cursed-body', 'Base Experience': 250, 'Shiny Sprite URL': 'https://raw.githubusercontent.com/PokeAPI/sprites/master/sprites/pokemon/shiny/94.png', 'Attack': 65, 'HP': 60, 'Defense': 60}\n",
      "{'Name': 'snorlax', 'Ability': 'immunity', 'Base Experience': 189, 'Shiny Sprite URL': 'https://raw.githubusercontent.com/PokeAPI/sprites/master/sprites/pokemon/shiny/143.png', 'Attack': 110, 'HP': 160, 'Defense': 65}\n",
      "{'Name': 'bulbasaur', 'Ability': 'overgrow', 'Base Experience': 64, 'Shiny Sprite URL': 'https://raw.githubusercontent.com/PokeAPI/sprites/master/sprites/pokemon/shiny/1.png', 'Attack': 49, 'HP': 45, 'Defense': 49}\n",
      "{'Name': 'lugia', 'Ability': 'pressure', 'Base Experience': 340, 'Shiny Sprite URL': 'https://raw.githubusercontent.com/PokeAPI/sprites/master/sprites/pokemon/shiny/249.png', 'Attack': 90, 'HP': 106, 'Defense': 130}\n",
      "{'Name': 'pikachu', 'Ability': 'static', 'Base Experience': 112, 'Shiny Sprite URL': 'https://raw.githubusercontent.com/PokeAPI/sprites/master/sprites/pokemon/shiny/25.png', 'Attack': 55, 'HP': 35, 'Defense': 40}\n"
     ]
    }
   ],
   "source": [
    "# import requests\n",
    "#gengar\n",
    "#snorlax\n",
    "#bulbasaur\n",
    "#lugia\n",
    "#pikachu\n",
    "\n",
    "# pkmn_url = 'https://pokeapi.co/api/v2/pokemon/lugia'\n",
    "\n",
    "# pkmn_response = requests.get(pkmn_url)\n",
    "# response.status_code\n",
    "\n",
    "import requests\n",
    "\n",
    "def get_pkmn_data(pkmn_name):\n",
    "    pkmn_url = f'https://pokeapi.co/api/v2/pokemon/{pkmn_name}'\n",
    "\n",
    "    pkmn_response = requests.get(pkmn_url)\n",
    "\n",
    "    pkmn_data = pkmn_response.json()\n",
    "\n",
    "    pkmn_dict = {\n",
    "        'Name': pkmn_data['forms'][0]['name'],\n",
    "        'Ability': pkmn_data['abilities'][0]['ability']['name'],\n",
    "        'Base Experience': pkmn_data['base_experience'],\n",
    "        'Shiny Sprite URL': pkmn_data['sprites']['front_shiny'],\n",
    "        'Attack': pkmn_data['stats'][1]['base_stat'],\n",
    "        'HP': pkmn_data['stats'][0]['base_stat'],\n",
    "        'Defense': pkmn_data['stats'][2]['base_stat']\n",
    "    }\n",
    "\n",
    "    return pkmn_dict\n",
    "\n",
    "print(get_pkmn_data('gengar'))\n",
    "print(get_pkmn_data('snorlax'))\n",
    "print(get_pkmn_data('bulbasaur'))\n",
    "print(get_pkmn_data('lugia'))\n",
    "print(get_pkmn_data('pikachu'))\n",
    "\n",
    "\n",
    "\n",
    "\n"
   ]
  }
 ],
 "metadata": {
  "kernelspec": {
   "display_name": "Python 3.10.8 64-bit (microsoft store)",
   "language": "python",
   "name": "python3"
  },
  "language_info": {
   "codemirror_mode": {
    "name": "ipython",
    "version": 3
   },
   "file_extension": ".py",
   "mimetype": "text/x-python",
   "name": "python",
   "nbconvert_exporter": "python",
   "pygments_lexer": "ipython3",
   "version": "3.11.4"
  },
  "vscode": {
   "interpreter": {
    "hash": "aa82987a71ca0339a52998cd22613b0c002bda8349fa32a0cb67ceec3936a2bf"
   }
  }
 },
 "nbformat": 4,
 "nbformat_minor": 5
}
